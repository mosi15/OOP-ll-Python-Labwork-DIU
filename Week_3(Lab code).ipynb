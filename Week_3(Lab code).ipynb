{
  "nbformat": 4,
  "nbformat_minor": 0,
  "metadata": {
    "colab": {
      "name": "Lab_Session_3.ipynb",
      "provenance": [],
      "collapsed_sections": [],
      "include_colab_link": true
    },
    "kernelspec": {
      "name": "python3",
      "display_name": "Python 3"
    }
  },
  "cells": [
    {
      "cell_type": "markdown",
      "metadata": {
        "id": "view-in-github",
        "colab_type": "text"
      },
      "source": [
        "<a href=\"https://colab.research.google.com/github/mosi15/OOP-ll-Python-Labwork-DIU/blob/main/Week_3(Lab%20code).ipynb\" target=\"_parent\"><img src=\"https://colab.research.google.com/assets/colab-badge.svg\" alt=\"Open In Colab\"/></a>"
      ]
    },
    {
      "cell_type": "code",
      "metadata": {
        "id": "put0KDaH6qOk",
        "outputId": "031855f2-4981-4df3-9482-06523df5f1ab",
        "colab": {
          "base_uri": "https://localhost:8080/",
          "height": 139
        }
      },
      "source": [
        "#built-in functions\n",
        "\n",
        "print(\"Hi, I am semi-colon. Do you miss me?\")\n",
        "print(\"Let me know if you miss me or not. \")\n",
        "s=input()\n",
        "\n",
        "a=10\n",
        "b=21\n",
        "print(max(a,b))\n",
        "print(min(a,b))\n",
        "\n",
        "c=10.4\n",
        "d=int(c)\n",
        "print(d)\n",
        "\n",
        "e=\"python\"\n",
        "print(type(e))"
      ],
      "execution_count": null,
      "outputs": [
        {
          "output_type": "stream",
          "text": [
            "Hi, I am semi-colon. Do you miss me?\n",
            "Let me know if you miss me or not. \n",
            "Yes. I do.\n",
            "21\n",
            "10\n",
            "10\n",
            "<class 'str'>\n"
          ],
          "name": "stdout"
        }
      ]
    },
    {
      "cell_type": "code",
      "metadata": {
        "id": "rfnylNHAAXPm",
        "outputId": "0a0af1c4-56ce-4d60-831f-1c220b2c0845",
        "colab": {
          "base_uri": "https://localhost:8080/",
          "height": 69
        }
      },
      "source": [
        "#user defined function\n",
        "\n",
        "def add(a, b):\n",
        "    c=a+b\n",
        "    return c\n",
        "\n",
        "a=int(input(\"Enter a number: \"))\n",
        "b=int(input(\"Enter a number: \"))\n",
        "d=add(a,b)\n",
        "print(\"The sum is\", d)"
      ],
      "execution_count": null,
      "outputs": [
        {
          "output_type": "stream",
          "text": [
            "Enter a number: 10\n",
            "Enter a number: 20\n",
            "The sum is 30\n"
          ],
          "name": "stdout"
        }
      ]
    },
    {
      "cell_type": "code",
      "metadata": {
        "id": "20olaGqmBX7J",
        "outputId": "b2575c5f-2350-4433-b552-b987ae0f06a3",
        "colab": {
          "base_uri": "https://localhost:8080/",
          "height": 86
        }
      },
      "source": [
        "#function with multiple parameters\n",
        "\n",
        "def divisor(x,y,m):\n",
        "    if x%m==0 and y%m==0:\n",
        "        print(\"%d & %d are divisible by %d\"%(x,y,m))\n",
        "    elif x%m==0:\n",
        "        print(\"only %d is divisible by %d\"%(x,m))\n",
        "    elif y%m==0:\n",
        "        print(\"only %d is divisible by %d\"%(y,m))\n",
        "    else:\n",
        "        print(\"none of %d & %d is divisible by %d\"%(x,y,d))\n",
        "\n",
        "divisor(10,20,5)\n",
        "divisor(12,20,5)\n",
        "divisor(10,22,5)\n",
        "divisor(2,5,3)"
      ],
      "execution_count": null,
      "outputs": [
        {
          "output_type": "stream",
          "text": [
            "10 & 20 are divisible by 5\n",
            "only 20 is divisible by 5\n",
            "only 10 is divisible by 5\n",
            "none of 2 & 5 is divisible by 30\n"
          ],
          "name": "stdout"
        }
      ]
    },
    {
      "cell_type": "code",
      "metadata": {
        "id": "P3YgiignDl9E",
        "outputId": "7139e6dc-f19a-44f5-adca-3a73087543af",
        "colab": {
          "base_uri": "https://localhost:8080/",
          "height": 34
        }
      },
      "source": [
        "#function without parameter\n",
        "\n",
        "def summation():\n",
        "    a=3+8\n",
        "    return a\n",
        "\n",
        "b=summation()\n",
        "print(b)"
      ],
      "execution_count": null,
      "outputs": [
        {
          "output_type": "stream",
          "text": [
            "11\n"
          ],
          "name": "stdout"
        }
      ]
    },
    {
      "cell_type": "code",
      "metadata": {
        "id": "x-A4XKYhM_t8",
        "outputId": "49b92703-f930-4177-cbb6-f0139a68d8b8",
        "colab": {
          "base_uri": "https://localhost:8080/",
          "height": 52
        }
      },
      "source": [
        "#function with default parameter value\n",
        "\n",
        "def check(a=0):\n",
        "    if a==0:\n",
        "        print(\"Zero\")\n",
        "    elif a>0:\n",
        "        print(\"Positive\")\n",
        "    else:\n",
        "        print(\"Negative\")\n",
        "\n",
        "check()     #without parameter\n",
        "check(-4)   #with parameter"
      ],
      "execution_count": null,
      "outputs": [
        {
          "output_type": "stream",
          "text": [
            "Zero\n",
            "Negative\n"
          ],
          "name": "stdout"
        }
      ]
    },
    {
      "cell_type": "code",
      "metadata": {
        "id": "Mru9JQ-tNkw3",
        "outputId": "b179a5cf-59c1-490d-91eb-306baf42644b",
        "colab": {
          "base_uri": "https://localhost:8080/",
          "height": 220
        }
      },
      "source": [
        "#local scope\n",
        "\n",
        "def local_scope():\n",
        "    x=7\n",
        "    print(x)\n",
        "\n",
        "local_scope()\n",
        "print(x)"
      ],
      "execution_count": null,
      "outputs": [
        {
          "output_type": "stream",
          "text": [
            "7\n"
          ],
          "name": "stdout"
        },
        {
          "output_type": "error",
          "ename": "NameError",
          "evalue": "ignored",
          "traceback": [
            "\u001b[0;31m---------------------------------------------------------------------------\u001b[0m",
            "\u001b[0;31mNameError\u001b[0m                                 Traceback (most recent call last)",
            "\u001b[0;32m<ipython-input-6-d0e6fae9f72b>\u001b[0m in \u001b[0;36m<module>\u001b[0;34m()\u001b[0m\n\u001b[1;32m      6\u001b[0m \u001b[0;34m\u001b[0m\u001b[0m\n\u001b[1;32m      7\u001b[0m \u001b[0mlocal_scope\u001b[0m\u001b[0;34m(\u001b[0m\u001b[0;34m)\u001b[0m\u001b[0;34m\u001b[0m\u001b[0;34m\u001b[0m\u001b[0m\n\u001b[0;32m----> 8\u001b[0;31m \u001b[0mprint\u001b[0m\u001b[0;34m(\u001b[0m\u001b[0mx\u001b[0m\u001b[0;34m)\u001b[0m\u001b[0;34m\u001b[0m\u001b[0;34m\u001b[0m\u001b[0m\n\u001b[0m",
            "\u001b[0;31mNameError\u001b[0m: name 'x' is not defined"
          ]
        }
      ]
    },
    {
      "cell_type": "code",
      "metadata": {
        "id": "EyROFGhnQJVf",
        "outputId": "5db2e325-b4a8-4324-8010-4abcb8d443d0",
        "colab": {
          "base_uri": "https://localhost:8080/",
          "height": 220
        }
      },
      "source": [
        "#local scope\n",
        "\n",
        "def local_scope():\n",
        "    x=7\n",
        "    return x\n",
        "\n",
        "a=local_scope()\n",
        "print(a)\n",
        "print(x)"
      ],
      "execution_count": null,
      "outputs": [
        {
          "output_type": "stream",
          "text": [
            "7\n"
          ],
          "name": "stdout"
        },
        {
          "output_type": "error",
          "ename": "NameError",
          "evalue": "ignored",
          "traceback": [
            "\u001b[0;31m---------------------------------------------------------------------------\u001b[0m",
            "\u001b[0;31mNameError\u001b[0m                                 Traceback (most recent call last)",
            "\u001b[0;32m<ipython-input-7-336e5e588753>\u001b[0m in \u001b[0;36m<module>\u001b[0;34m()\u001b[0m\n\u001b[1;32m      7\u001b[0m \u001b[0ma\u001b[0m\u001b[0;34m=\u001b[0m\u001b[0mlocal_scope\u001b[0m\u001b[0;34m(\u001b[0m\u001b[0;34m)\u001b[0m\u001b[0;34m\u001b[0m\u001b[0;34m\u001b[0m\u001b[0m\n\u001b[1;32m      8\u001b[0m \u001b[0mprint\u001b[0m\u001b[0;34m(\u001b[0m\u001b[0ma\u001b[0m\u001b[0;34m)\u001b[0m\u001b[0;34m\u001b[0m\u001b[0;34m\u001b[0m\u001b[0m\n\u001b[0;32m----> 9\u001b[0;31m \u001b[0mprint\u001b[0m\u001b[0;34m(\u001b[0m\u001b[0mx\u001b[0m\u001b[0;34m)\u001b[0m\u001b[0;34m\u001b[0m\u001b[0;34m\u001b[0m\u001b[0m\n\u001b[0m",
            "\u001b[0;31mNameError\u001b[0m: name 'x' is not defined"
          ]
        }
      ]
    },
    {
      "cell_type": "code",
      "metadata": {
        "id": "r9JthIe-RbSe",
        "outputId": "4b71e17d-029f-4f17-b98a-9346ac774ed5",
        "colab": {
          "base_uri": "https://localhost:8080/",
          "height": 52
        }
      },
      "source": [
        "#global scope\n",
        "\n",
        "x=10\n",
        "\n",
        "def global_scope():\n",
        "    print(x)\n",
        "\n",
        "print(x)\n",
        "global_scope()"
      ],
      "execution_count": null,
      "outputs": [
        {
          "output_type": "stream",
          "text": [
            "10\n",
            "10\n"
          ],
          "name": "stdout"
        }
      ]
    },
    {
      "cell_type": "code",
      "metadata": {
        "id": "go6zuWDAP_Ck",
        "outputId": "d3e760d8-276d-41f9-9cba-aac0a4a69465",
        "colab": {
          "base_uri": "https://localhost:8080/",
          "height": 34
        }
      },
      "source": [
        "#global scope\n",
        "\n",
        "def global_scope():\n",
        "    global x\n",
        "    x=10\n",
        "\n",
        "global_scope()\n",
        "print(x)"
      ],
      "execution_count": null,
      "outputs": [
        {
          "output_type": "stream",
          "text": [
            "10\n"
          ],
          "name": "stdout"
        }
      ]
    },
    {
      "cell_type": "code",
      "metadata": {
        "id": "se74S0lYPutL",
        "outputId": "514ac1b6-f256-432f-8403-5db0031fb91e",
        "colab": {
          "base_uri": "https://localhost:8080/",
          "height": 35
        }
      },
      "source": [
        "from google.colab import drive\n",
        "drive.mount('/content/gdrive')"
      ],
      "execution_count": 5,
      "outputs": [
        {
          "output_type": "stream",
          "text": [
            "Mounted at /content/gdrive\n"
          ],
          "name": "stdout"
        }
      ]
    },
    {
      "cell_type": "code",
      "metadata": {
        "id": "On5yNCjtik45",
        "outputId": "3ca4d4cb-a497-4053-f685-4340636f7466",
        "colab": {
          "base_uri": "https://localhost:8080/",
          "height": 1000
        }
      },
      "source": [
        "#python standard library\n",
        "#csv module\n",
        "\n",
        "import csv\n",
        "\n",
        "with open('gdrive/My Drive/Colab Notebooks/Lab work/indian_food.csv', newline='') as csvfile:\n",
        "    tmp = csv.reader(csvfile, delimiter=' ', quotechar='|')\n",
        "    for row in tmp:\n",
        "        print(', '.join(row))"
      ],
      "execution_count": 35,
      "outputs": [
        {
          "output_type": "stream",
          "text": [
            "name,ingredients,diet,prep_time,cook_time,flavor_profile,course,state,region\n",
            "Balu, shahi,\"Maida, flour,, yogurt,, oil,, sugar\",vegetarian,45,25,sweet,dessert,West, Bengal,East\n",
            "Boondi,\"Gram, flour,, ghee,, sugar\",vegetarian,80,30,sweet,dessert,Rajasthan,West\n",
            "Gajar, ka, halwa,\"Carrots,, milk,, sugar,, ghee,, cashews,, raisins\",vegetarian,15,60,sweet,dessert,Punjab,North\n",
            "Ghevar,\"Flour,, ghee,, kewra,, milk,, clarified, butter,, sugar,, almonds,, pistachio,, saffron,, green, cardamom\",vegetarian,15,30,sweet,dessert,Rajasthan,West\n",
            "Gulab, jamun,\"Milk, powder,, plain, flour,, baking, powder,, ghee,, milk,, sugar,, water,, rose, water\",vegetarian,15,40,sweet,dessert,West, Bengal,East\n",
            "Imarti,\"Sugar, syrup,, lentil, flour\",vegetarian,10,50,sweet,dessert,West, Bengal,East\n",
            "Jalebi,\"Maida,, corn, flour,, baking, soda,, vinegar,, curd,, water,, turmeric,, saffron,, cardamom\",vegetarian,10,50,sweet,dessert,Uttar, Pradesh,North\n",
            "Kaju, katli,\"Cashews,, ghee,, cardamom,, sugar\",vegetarian,10,20,sweet,dessert,-1,-1\n",
            "Kalakand,\"Milk,, cottage, cheese,, sugar\",vegetarian,20,30,sweet,dessert,West, Bengal,East\n",
            "Kheer,\"Milk,, rice,, sugar,, dried, fruits\",vegetarian,10,40,sweet,dessert,-1,-1\n",
            "Laddu,\"Gram, flour,, ghee,, sugar\",vegetarian,10,40,sweet,dessert,-1,-1\n",
            "Lassi,\"Yogurt,, milk,, nuts,, sugar\",vegetarian,5,5,sweet,dessert,Punjab,North\n",
            "Nankhatai,\"Refined, flour,, besan,, ghee,, powdered, sugar,, yoghurt,, green, cardamom\",vegetarian,20,30,sweet,dessert,-1,-1\n",
            "Petha,\"Firm, white, pumpkin,, sugar,, kitchen, lime,, alum, powder\",vegetarian,10,30,sweet,dessert,Uttar, Pradesh,North\n",
            "Phirni,\"Rice,, sugar,, nuts\",vegetarian,30,20,sweet,dessert,Odisha,East\n",
            "Rabri,\"Condensed, milk,, sugar,, spices,, nuts\",vegetarian,10,45,sweet,dessert,Uttar, Pradesh,North\n",
            "Sheera,\"Semolina,, ghee,, nuts,, milk\",vegetarian,10,25,sweet,dessert,Maharashtra,West\n",
            "Singori,\"Khoa,, coconut,, molu, leaf\",vegetarian,10,20,sweet,dessert,Uttarakhand,North\n",
            "Sohan, halwa,\"Corn, flour,, ghee,, dry, fruits\",vegetarian,10,60,sweet,dessert,Uttar, Pradesh,North\n",
            "Sohan, papdi,\"Gram, flour,, ghee,, sugar,, milk,, cardamom\",vegetarian,-1,60,sweet,dessert,Maharashtra,West\n",
            "Chhena, jalebi,\"Chhena,, sugar,, ghee\",vegetarian,10,50,sweet,dessert,Odisha,East\n",
            "Chhena, kheeri,\"Chhena,, sugar,, milk\",vegetarian,-1,60,sweet,dessert,Odisha,East\n",
            "Chhena, poda,\"Sugar,, chenna, cheese\",vegetarian,10,45,sweet,dessert,Odisha,East\n",
            "Cham, cham,\"Flour,, cream,, sugar,, saffron,, lemon, juice,, coconut, flakes\",vegetarian,40,60,sweet,dessert,West, Bengal,East\n",
            "Kheer, sagar,\"Chenna,, condensed, milk,, sugar,, saffron,, cardamom\",vegetarian,25,60,sweet,dessert,Odisha,East\n",
            "Ledikeni,\"Chhena,, sugar,, ghee\",vegetarian,45,45,sweet,dessert,West, Bengal,East\n",
            "Lyangcha,\"Flour,, fried, milk, power,, sugar, syrup\",vegetarian,20,30,sweet,dessert,Assam,North, East\n",
            "Malapua,\"Yoghurt,, refined, flour,, ghee,, fennel, seeds\",vegetarian,10,120,sweet,dessert,Bihar,North\n",
            "Mihidana,\"Besan, flour,, sugar,, ghee\",vegetarian,15,30,sweet,dessert,West, Bengal,East\n",
            "Misti, doi,\"Milk,, jaggery\",vegetarian,480,30,sweet,dessert,West, Bengal,East\n",
            "Pantua,\"Chhena,, sugar,, ghee,, flour\",vegetarian,45,45,sweet,dessert,West, Bengal,East\n",
            "Pithe,\"Rice, flour,, wheat, flour\",vegetarian,15,35,sweet,dessert,Assam,North, East\n",
            "Rasabali,\"Chenna,, sweetened, milk\",vegetarian,15,30,sweet,dessert,Odisha,East\n",
            "Ras, malai,\"Chhena,, reduced, milk,, pistachio\",vegetarian,180,60,sweet,dessert,West, Bengal,East\n",
            "Rasgulla,\"Chhena,, sugar,, cardamom\",vegetarian,10,90,sweet,dessert,West, Bengal,East\n",
            "Sandesh,\"Milk,, sugar,, saffron,, cardamom\",vegetarian,30,20,sweet,dessert,West, Bengal,East\n",
            "Adhirasam,\"Rice, flour,, jaggery,, ghee,, vegetable, oil,, elachi\",vegetarian,10,50,sweet,dessert,West, Bengal,East\n",
            "Ariselu,\"Rice, flour,, jaggery,, ghee\",vegetarian,15,75,sweet,dessert,Andhra, Pradesh,South\n",
            "Bandar, laddu,\"Besan,, jaggery,, cardamom, powder,, ghee,, cashews, and, raisins,, jaggery, syrup,, sugar\",vegetarian,5,35,sweet,dessert,Andhra, Pradesh,South\n",
            "Chikki,\"Peanuts,, jaggery\",vegetarian,10,20,sweet,dessert,Maharashtra,West\n",
            "Dharwad, pedha,\"Milk,, Sugar,, Dharwadi, buffalo, milk\",vegetarian,20,60,sweet,dessert,Karnataka,South\n",
            "Double, ka, meetha,\"Loaf, bread,, milk\",vegetarian,20,30,sweet,dessert,Telangana,South\n",
            "Gavvalu,\"Rice, flour,, sugar,, salt,, ghee,, semolina\",vegetarian,10,30,sweet,dessert,Andhra, Pradesh,South\n",
            "Kakinada, khaja,\"Wheat, flour,, sugar\",vegetarian,10,30,sweet,dessert,Andhra, Pradesh,South\n",
            "Kuzhi, paniyaram,\"Black, lentils,, rice\",vegetarian,10,20,sweet,dessert,Kerala,South\n",
            "Mysore, pak,\"Besan, flour,, semolina,, mung, bean,, jaggery,, coconut,, skimmed, milk, powder,, sugar,, ghee\",vegetarian,5,20,sweet,dessert,Karnataka,South\n",
            "Obbattu, holige,\"Maida, flour,, turmeric,, coconut,, chickpeas,, jaggery,, ghee,, cardamom\",vegetarian,180,60,sweet,main, course,Karnataka,South\n",
            "Palathalikalu,\"Rice, flour,, milk\",vegetarian,10,25,sweet,dessert,Andhra, Pradesh,South\n",
            "Poornalu,\"Chana, dal,, jaggery\",vegetarian,240,60,sweet,dessert,Andhra, Pradesh,South\n",
            "Pongal,\"Rice,, jaggery,, cashews,, ghee\",vegetarian,5,20,sweet,dessert,Tamil, Nadu,South\n",
            "Pootharekulu,\"Rice, flour,, powdered, sugar,, ghee\",vegetarian,10,60,sweet,dessert,Andhra, Pradesh,South\n",
            "Qubani, ka, meetha,\"Apricots,, sugar, syrup\",vegetarian,10,20,sweet,dessert,Telangana,South\n",
            "Sheer, korma,\"Vermicelli, pudding,, milk\",vegetarian,10,20,sweet,dessert,Telangana,South\n",
            "Unni, Appam,\"Rice, flour,, banana,, jaggery,, coconut\",vegetarian,10,20,sweet,dessert,Tamil, Nadu,South\n",
            "Kajjikaya,\"Rice, flour,, jaggery,, coconut\",vegetarian,40,15,sweet,dessert,Andhra, Pradesh,South\n",
            "Anarsa,\"Rice, flour,, jaggery,, khus-khus, seeds\",vegetarian,10,50,sweet,dessert,Maharashtra,West\n",
            "Basundi,\"Sugar,, milk,, nuts\",vegetarian,10,35,sweet,dessert,Gujarat,West\n",
            "Dhondas,\"Cucumber,, rava\",vegetarian,10,50,sweet,dessert,Maharashtra,West\n",
            "Doodhpak,\"Milk,, rice,, sugar,, dry, fruits\",vegetarian,10,60,sweet,dessert,Gujarat,West\n",
            "Mahim, halwa,\"Semolina,, sugar\",vegetarian,10,25,sweet,dessert,Maharashtra,West\n",
            "Modak,\"Rice, flour,, coconut,, jaggery, \",vegetarian,10,15,sweet,dessert,Maharashtra,West\n",
            "Shankarpali,\"Sugar,, ghee,, maida, flour,, semolina\",vegetarian,10,35,sweet,dessert,Maharashtra,West\n",
            "Shrikhand,\"Curd,, sugar,, saffron,, cardamom\",vegetarian,10,720,sweet,dessert,Maharashtra,West\n",
            "Sutar, feni,\"Maida,, sugar,, ghee\",vegetarian,15,55,sweet,dessert,Maharashtra,West\n",
            "Maach, Jhol,\"Fish,, potol,, tomato,, chillies,, ginger,, garlic\",non, vegetarian,10,40,spicy,main, course,Assam,North, East\n",
            "Pork, Bharta,\"Boiled, pork,, onions,, chillies,, ginger, and, garlic\",non, vegetarian,-1,-1,spicy,main, course,Tripura,North, East\n",
            "Chak, Hao, Kheer,\"Rice,, milk,, sugar,, cardamom\",vegetarian,240,45,sweet,dessert,Manipur,North, East\n",
            "Galho,\"Rice,, axone,, salt,, water,, chillies,, pork\",non, vegetarian,5,15,spicy,main, course,Nagaland,North, East\n",
            "Aloo, gobi,\"Cauliflower,, potato,, garam, masala,, turmeric,, curry, leaves\",vegetarian,10,20,spicy,main, course,Punjab,North\n",
            "Aloo, tikki,\"Rice, flour,, potato,, bread, crumbs,, garam, masala,, salt\",vegetarian,5,20,spicy,main, course,Punjab,North\n",
            "Aloo, matar,\"Potato,, peas,, chillies,, ginger,, garam, masala,, garlic\",vegetarian,5,40,spicy,main, course,Punjab,North\n",
            "Aloo, methi,\"Potato,, fenugreek, leaves,, chillies,, salt,, oil\",vegetarian,10,40,bitter,main, course,Punjab,North\n",
            "Aloo, shimla, mirch,\"Potato,, shimla, mirch,, garam, masala,, amchur, powder,, salt\",vegetarian,10,40,spicy,main, course,Punjab,North\n",
            "Bhatura,\"Chole,, rava,, yogurt,, plain, flour,, baking, soda\",vegetarian,20,20,spicy,main, course,Punjab,North\n",
            "Bhindi, masala,\"Ladies, finger,, garam, masala,, kasuri, methi,, tomatoes,, chili, powder\",vegetarian,20,30,spicy,main, course,Punjab,North\n",
            "Biryani,\"Chicken, thighs,, basmati, rice,, star, anise,, sweet,, green, chillies\",non, vegetarian,30,120,spicy,main, course,Telangana,South\n",
            "Butter, chicken,\"Chicken,, greek, yogurt,, cream,, garam, masala, powder,, cashew, nuts,, butter\",non, vegetarian,10,35,spicy,main, course,NCT, of, Delhi,North\n",
            "Chana, masala,\"Chickpeas,, tomato, paste,, garam, masala,, ginger,, red, onion,, avocado, oil\",vegetarian,20,30,spicy,main, course,Punjab,North\n",
            "Chapati,\"Whole, wheat, flour,, olive, oil,, hot, water,, all, purpose, flour\",vegetarian,10,10,-1,main, course,Maharashtra,West\n",
            "Chicken, razala,\"Chicken,, dahi,, sesame, seeds,, garam, masala, powder,, cashew, nuts,, saffron\",non, vegetarian,10,35,spicy,main, course,West, Bengal,East\n",
            "Chicken, Tikka, masala,\"Naan, bread,, tomato, sauce,, skinless, chicken, breasts,, heavy, cream,, garam, masala\",non, vegetarian,10,50,spicy,main, course,Punjab,North\n",
            "Chicken, Tikka,\"Chicken,, whole, wheat, bread,, rice, flour,, garam, masala, powder,, whole, egg\",non, vegetarian,120,45,spicy,starter,Punjab,North\n",
            "Chole, bhature,\"Chole,, bhatura,, garam, masala,, bay, leaf,, cinnamon, stick\",vegetarian,20,30,spicy,main, course,Punjab,North\n",
            "Daal, baati, churma,\"Moong, dal,, masoor, dal,, chana, dal,, wheat, flour,, almond\",vegetarian,10,90,spicy,main, course,Rajasthan,West\n",
            "Daal, puri,\"Moong, dal,, garam, masala, powder,, garlic,, green, chilli,, all, purpose, flour\",vegetarian,30,30,spicy,main, course,West, Bengal,East\n",
            "Dal, makhani, ,\"Red, kidney, beans,, urad, dal,, cream,, garam, masala,, chili, powder\",vegetarian,10,60,sweet,main, course,Punjab,North\n",
            "Dal, tadka,\"Pigeon, peas,, garam, masala,, ginger,, red, onion,, kasuri, methi\",vegetarian,10,30,spicy,main, course,Punjab,North\n",
            "Dum, aloo,\"Baby, potatoes,, garam, masala,, cashew, nuts,, kasuri, methi,, tomatoes\",vegetarian,20,50,spicy,main, course,Jammu, &, Kashmir,North\n",
            "Poha,\"Beaten, rice, flakes,, potato,, curry, leaves,, green, chilies,, lemon, juice\",vegetarian,20,30,spicy,snack,Maharashtra,West\n",
            "Fara,\"Chana, dal,, whole, wheat, flour,, arhar, dal,, white, urad, dal,, garam, masala, powder\",vegetarian,10,60,spicy,snack,Chhattisgarh,Central\n",
            "Kachori,\"Moong, dal,, rava,, garam, masala,, dough,, fennel, seeds\",vegetarian,30,60,spicy,snack,Uttar, Pradesh,North\n",
            "Kadai, paneer,\"Cottage, cheese,, bell, peppers,, gravy,, garam, masala,, cashew, nuts\",vegetarian,20,30,spicy,main, course,Punjab,North\n",
            "Kadhi, pakoda,\"Besan,, garam, masala, powder,, gram, flour,, ginger,, curry, leaves\",vegetarian,10,60,spicy,main, course,Haryana,North\n",
            "Karela, bharta,\"Bitter, gourd,, fennel,, garam, masala, powder,, chili, powder,, amchur, powder\",vegetarian,20,50,bitter,main, course,Punjab,North\n",
            "Khichdi,\"Moong, dal,, green, peas,, ginger,, tomato,, green, chili\",vegetarian,40,20,spicy,main, course,-1,-1\n",
            "Kofta,\"Paneer,, potato,, cream,, corn, flour,, garam, masala\",vegetarian,20,40,spicy,main, course,Uttar, Pradesh,North\n",
            "Kulfi, falooda,\"Rose, syrup,, falooda, sev,, mixed, nuts,, saffron,, sugar\",vegetarian,45,25,sweet,dessert,-1,-1\n",
            "Lauki, ke, kofte,\"Bottle, gourd,, garam, masala, powder,, gram, flour,, ginger,, chillies\",vegetarian,20,40,spicy,main, course,Uttar, Pradesh,North\n",
            "Lauki, ki, subji,\"Bottle, gourd,, coconut, oil,, garam, masala,, ginger,, green, chillies\",vegetarian,10,20,spicy,main, course,-1,-1\n",
            "Litti, chokha,\"Wheat, flour,, roasted, gram, flour,, tomato,, nigella, seeds,, chilli\",vegetarian,45,60,spicy,main, course,Bihar,North\n",
            "Makki, di, roti, sarson, da, saag,\"Palak,, makki, atta,, mustard, green,, garam, masala,, ginger\",vegetarian,25,30,spicy,main, course,Punjab,North\n",
            "Misi, roti,\"Whole, wheat, flour,, chickpea, flour,, green, chilies\",vegetarian,30,30,spicy,main, course,Punjab,North\n",
            "Mushroom, do, pyaza,\"Mushroom,, malai,, garam, masala,, ginger,, capsicum\",vegetarian,10,30,spicy,main, course,Punjab,North\n",
            "Mushroom, matar,\"Canned, coconut, milk,, frozen, green, peas,, wild, mushrooms,, garam, masala,, tomatoes\",vegetarian,10,30,spicy,main, course,Punjab,North\n",
            "Naan,\"Whole, wheat, flour,, honey,, butter,, garlic\",vegetarian,60,30,-1,main, course,Punjab,North\n",
            "Navrattan, korma,\"Green, beans,, potatoes,, khus, khus,, low, fat,, garam, masala, powder\",vegetarian,25,40,spicy,main, course,Uttar, Pradesh,North\n",
            "Palak, paneer,\"Cottage, cheese,, palak,, cream,, garam, masala,, butter\",vegetarian,20,40,spicy,main, course,Punjab,North\n",
            "Paneer, butter, masala,\"Paneer,, whipping, cream,, garam, masala,, cashew, nuts,, butter\",vegetarian,20,40,spicy,main, course,Punjab,North\n",
            "Paneer, tikka, masala,\"Paneer,, greek, yogurt,, tandoori, masala,, cream,, bell, pepper\",vegetarian,20,40,spicy,main, course,Punjab,North\n",
            "Pani, puri,\"Kala, chana,, mashed, potato,, boondi,, sev,, lemon\",vegetarian,15,2,spicy,snack,-1,-1\n",
            "Panjeeri,\"Whole, wheat, flour,, musk, melon, seeds,, poppy, seeds,, edible, gum,, semolina\",vegetarian,10,25,sweet,dessert,Uttar, Pradesh,\n",
            "Papad,\"Urad, dal,, sev,, lemon, juice,, chopped, tomatoes\",vegetarian,5,5,spicy,snack,-1,-1\n",
            "Paratha,\"Wheat, flour,, butter,, potato,, coriander\",vegetarian,15,45,spicy,main, course,Punjab,North\n",
            "Pattor,\"Arbi, ke, patte,, sesame, seeds,, gur,, bengal, gram, flour,, imli\",vegetarian,10,30,spicy,main, course,Rajasthan,West\n",
            "Pindi, chana,\"Fennel,, tea, bags,, tomato,, kasuri, methi,, cinnamon\",vegetarian,500,120,spicy,main, course,Punjab,North\n",
            "Rajma, chaval,\"Red, kidney, beans,, garam, masala, powder,, ginger,, tomato,, mustard, oil\",vegetarian,15,90,spicy,main, course,-1,North\n",
            "Rongi,\"Garam, masala, powder,, tomato,, kasuri, methi,, cinnamon,, mustard, oil\",vegetarian,10,30,-1,main, course,Punjab,North\n",
            "Samosa,\"Potatoes,, green, peas,, garam, masala,, ginger,, dough\",vegetarian,30,30,spicy,snack,-1,-1\n",
            "Sattu, ki, roti,\"Sattu,, atta,, dough,, filling,, mustard, oil\",vegetarian,10,20,spicy,main, course,Bihar,North\n",
            "Shahi, paneer,\"Cottage, cheese,, malai,, garam, masala,, ginger,, tomato\",vegetarian,20,40,spicy,main, course,Punjab,North\n",
            "Shahi, tukra,\"Rose, water,, milk,, white, bread, slices,, saffron,, almonds\",vegetarian,10,30,sweet,dessert,Telangana,South\n",
            "Vegetable, jalfrezi,\"Baby, corn,, french, beans,, garam, masala,, ginger,, carrot\",vegetarian,10,30,spicy,main, course,Punjab,North\n",
            "Tandoori, Chicken,\"Greek, yogurt,, garam, masala,, kasuri, methi,, marinade,, mustard, oil\",non, vegetarian,240,30,spicy,main, course,Punjab,North\n",
            "Tandoori, Fish, Tikka,\"Chickpea, flour,, biryani, masala, powder,, yogurt,, fish, fillets,, green, bell, pepper\",non, vegetarian,240,30,spicy,starter,Punjab,North\n",
            "Attu,\"Whole, wheat, flour,, arhar, dal,, ginger,, kala, jeera,, green, chilli\",vegetarian,150,25,spicy,snack,Andhra, Pradesh,South\n",
            "Avial,\"Raw, banana,, elephant, foot, yam,, long, beans,, tindora,, urad, dal\",vegetarian,30,45,spicy,main, course,Kerala,South\n",
            "Bisi, bele, bath,\"Split, pigeon, peas,, chana, dal,, urad, dal,, green, peas,, french, beans\",vegetarian,30,45,spicy,main, course,Karnataka,South\n",
            "Currivepillai, sadam, ,\"Chana, dal,, urad, dal,, fresh, coconut,, sesame, seeds,, curry, leaves\",vegetarian,10,20,spicy,main, course,Tamil, Nadu,South\n",
            "Dosa,\"Chana, dal,, urad, dal,, whole, urad, dal,, blend, rice,, rock, salt\",vegetarian,360,90,spicy,snack,-1,South\n",
            "Idiappam,\"Rice, flour,, hot, water,, grated, coconut\",vegetarian,120,30,spicy,snack,Tamil, Nadu,South\n",
            "Idli,\"Split, urad, dal,, urad, dal,, idli, rice,, thick, poha,, rock, salt\",vegetarian,360,90,spicy,snack,-1,South\n",
            "Kanji,\"Carrot,, yellow, mustard,, red, chilli,, black, salt\",vegetarian,10,45,-1,snack,Kerala,South\n",
            "Kaara, kozhambu,\"Sesame, oil,, drumstick,, tamarind, paste,, sambar, powder,, tomato\",vegetarian,-1,-1,spicy,main, course,Tamil, Nadu,South\n",
            "Keerai, kootu,\"Moong, dal,, chana, dal,, spinach,, urad, dal,, coconut, oil\",vegetarian,20,30,spicy,main, course,Tamil, Nadu,South\n",
            "Keerai, masiyal,\"Urad, dal,, curry, leaves,, sugar,, mustard, seeds,, spinach\",vegetarian,-1,-1,spicy,main, course,Tamil, Nadu,South\n",
            "Keerai, sadam,\"Greens,, tomato,, mustard, seeds,, fenugreek, seeds\",vegetarian,10,20,spicy,main, course,Tamil, Nadu,South\n",
            "Keerai, poriyal,\"Amaranth, leaves,, split, urad, dal,, mustard, seeds,, grated, coconut,, red, chili\",vegetarian,20,30,spicy,main, course,Tamil, Nadu,South\n",
            "Beef, Fry,\"Beef,, coconut,, garam, masala,, curry, leaves,, green, chilies,, chili, powder\",non, vegetarian,10,60,spicy,main, course,Kerala,South\n",
            "Kootu,\"Chana, dal,, urad, dal,, potato,, beans,, peas\",vegetarian,10,15,spicy,main, course,Tamil, Nadu,South\n",
            "Kos, kootu,\"Moong, dal,, chana, dal,, cabbage,, tamarind,, curry, leaves\",vegetarian,10,20,spicy,main, course,Tamil, Nadu,South\n",
            "Koshambri,\"Moong, dal,, cucumber,, curry, leaves,, green, chili,, lemon, juice\",vegetarian,10,20,spicy,main, course,Karnataka,South\n",
            "Kothamali, sadam,\"Chana, dal,, urad, dal,, gooseberry,, raw, rice,, curry, leaves\",vegetarian,10,20,spicy,main, course,Tamil, Nadu,South\n",
            "Kuzhakkattai,\"Sesame, oil,, raw, rice,, jaggery,, grated, coconut\",vegetarian,10,90,spicy,main, course,Tamil, Nadu,South\n",
            "Kuzhambu,\"Pearl, onions,, urad, dal,, drumsticks,, tomato,, curry, leaves\",vegetarian,5,30,spicy,main, course,Tamil, Nadu,South\n",
            "Masala, Dosa,\"Chana, dal,, urad, dal,, potatoes,, idli, rice,, thick, poha\",vegetarian,360,90,spicy,snack,-1,South\n",
            "Pachadi,\"Coconut, oil,, cucumber,, curd,, curry, leaves,, mustard, seeds\",vegetarian,10,25,-1,main, course,-1,South\n",
            "Paniyaram,\"Yogurt,, ginger,, curry, leaves,, baking, soda,, green, chilli\",vegetarian,10,20,-1,main, course,Tamil, Nadu,South\n",
            "Papadum,\"Lentils,, black, pepper,, vegetable, oil\",vegetarian,5,5,spicy,snack,Kerala,South\n",
            "Paravannam,\"Raw, rice,, , jaggery,, milk\",vegetarian,-1,-1,spicy,main, course,Kerala,South\n",
            "Payasam,\"Rice,, cashew, nuts,, milk,, raisins,, sugar\",vegetarian,15,30,sweet,dessert,-1,South\n",
            "Paruppu, sadam,\"Arhar, dal,, sambar, powder,, tomato,, curry, leaves,, fennel, seeds\",vegetarian,10,20,-1,main, course,Tamil, Nadu,South\n",
            "Pesarattu,\"Green, moong, beans,, rice, flour\",vegetarian,120,20,spicy,snack,Andhra, Pradesh,South\n",
            "Poriyal,\"Chana, dal,, urad, dal,, beans,, coconut,, mustard\",vegetarian,-1,-1,spicy,main, course,Tamil, Nadu,South\n",
            "Puli, sadam,\"Urad, dal,, lemon,, tamarind,, cooked, rice,, curry, leaves\",vegetarian,10,20,-1,main, course,Tamil, Nadu,South\n",
            "Rasam,\"Tomato,, curry, leaves,, garlic,, mustard, seeds,, hot, water\",vegetarian,10,35,spicy,main, course,-1,South\n",
            "Puttu,\"Brown, rice, flour,, sugar,, grated, coconut\",vegetarian,495,40,-1,main, course,Kerala,South\n",
            "Sambar,\"Pigeon, peas,, eggplant,, drumsticks,, sambar, powder,, tamarind\",vegetarian,20,45,spicy,main, course,-1,South\n",
            "Sandige,\"Thin, rice, flakes,, black, sesame, seeds,, curry, leaves\",vegetarian,120,60,-1,main, course,Karnataka,South\n",
            "Sevai,\"Sevai,, parboiled, rice,, steamer\",vegetarian,120,30,-1,main, course,-1,South\n",
            "Thayir, sadam,\"Urad, dal,, curd,, sesame, oil,, ginger,, curry, leaves,, mustard, seeds\",vegetarian,10,20,-1,main, course,Tamil, Nadu,South\n",
            "Theeyal,\"Coconut,, whole, red, beans,, masala,, sesame, oil,, tamarind\",vegetarian,15,20,-1,main, course,Kerala,South\n",
            "Uttapam,\"Chana, dal,, urad, dal,, thick, poha,, tomato,, butter\",vegetarian,10,20,spicy,snack,-1,South\n",
            "Vada,\"Urad, dal,, ginger,, curry, leaves,, green, chilies,, black, pepper\",vegetarian,15,20,spicy,snack,-1,South\n",
            "Chicken, Varuval,\"Meat, curry, powder,, chicken, chunks,, ginger,, tomato,, cinnamon\",non, vegetarian,10,35,spicy,main, course,Tamil, Nadu,South\n",
            "Upma,\"Chana, dal,, urad, dal,, ginger,, curry, leaves,, sugar\",vegetarian,10,20,spicy,snack,-1,-1\n",
            "Amti,\"Kala, masala,, arhar, dal,, curry, leaves,, mustard, seeds,, hot, water\",vegetarian,10,45,spicy,main, course,Maharashtra,West\n",
            "Zunka,\"Gram, flour,, mustard,, garlic,, turmeric,, red, chilli\",vegetarian,10,25,spicy,main, course,Maharashtra,West\n",
            "Kolim, Jawla,\"Baingan,, fish,, coconut, oil,, fresh, coconut,, ginger\",non, vegetarian,-1,-1,spicy,main, course,Maharashtra,West\n",
            "Saath,\"Urad, dal,, potatoes,, wheat, flour,, sooji\",vegetarian,20,40,spicy,main, course,Gujarat,West\n",
            "Bajri, no, rotlo,\"Wheat, flour,, pearl, millet, flour,, hot, water\",vegetarian,10,10,spicy,main, course,Gujarat,West\n",
            "Coconut, vadi,\"Condensed, milk,, mawa,, desiccated, coconut,, almonds,, cashews\",vegetarian,20,30,sweet,dessert,Maharashtra,West\n",
            "Bhakri,\"Jowar, flour,, sesame, seeds\",vegetarian,20,25,-1,main, course,Maharashtra,West\n",
            "Bombil, fry,\"Bombay, duck,, malvani, masala,, rice, flour,, bombay, rava,, green, chilies\",non, vegetarian,-1,-1,spicy,main, course,Maharashtra,West\n",
            "Chakali,\"Rice, flour,, sesame,, plain, flour,, turmeric,, red, chilli\",vegetarian,10,40,spicy,snack,Maharashtra,West\n",
            "Chevdo,\"Citric, acid,, fry,, raisins,, sugar,, chana, daal\",vegetarian,20,30,spicy,snack,Gujarat,West\n",
            "Chorafali,\"Urad, dal,, bengal, gram, flour,, dried, mango,, baking, soda,, black, salt\",vegetarian,5,15,spicy,snack,Gujarat,West\n",
            "Copra, paak,\"Condensed, milk,, nestle, cream,, coconut, ice,, red, food, coloring,, desiccated, coconut\",vegetarian,20,30,-1,main, course,Gujarat,West\n",
            "Daal, Dhokli,\"Whole, wheat, flour,, dal,, kokum,, gur,, bengal, gram, flour\",vegetarian,20,30,spicy,main, course,Gujarat,West\n",
            "Kutchi, dabeli,\"Pav,, aloo,, peanut,, pomegranate,, star, anise\",vegetarian,30,10,spicy,snack,Gujarat,West\n",
            "Dahi, vada,\"Urad, dal,, bhuna, chana,, garam, masala,, dates,, tamarind\",vegetarian,30,30,-1,snack,Maharashtra,West\n",
            "Dalithoy,\"Arhar, dal,, coconut, oil,, curry, leaves,, mustard, seeds,, red, chilli\",vegetarian,5,20,-1,main, course,Maharashtra,West\n",
            "Dhokla,\"Rava,, coconut,, gram, flour,, mustard,, sesame\",vegetarian,10,20,spicy,snack,Gujarat,West\n",
            "Dudhi, halwa,\"Bottle, gourd,, green,, raisins,, sugar,, clarified, butter\",vegetarian,15,30,sweet,dessert,Gujarat,West\n",
            "Gatta, curry,\"Yogurt,, besan,, sauce,, garam, masala, powder,, gram, flour\",vegetarian,10,20,spicy,main, course,Rajasthan,West\n",
            "Gud, papdi,\"Wheat, flour,, jaggery,, clarified, butter,, sliced, almonds\",vegetarian,10,20,sweet,dessert,Gujarat,West\n",
            "Ghooghra,\"Dry, fruits,, semolina,, all, purpose, flour\",vegetarian,-1,-1,spicy,snack,Gujarat,West\n",
            "Handwo,\"Bottle, gourd,, chana, dal,, cabbage,, urad, dal,, toor, dal\",vegetarian,20,30,spicy,snack,Gujarat,West\n",
            "Halvasan,\"Whole, wheat, rava,, chia, seed,, lemon,, edible, gum,, litre, milk\",vegetarian,-1,-1,sweet,dessert,Gujarat,West\n",
            "Jeera, Aloo,\"Green, chilies,, lemon, juice,, chili, powder,, boiled, potatoes\",vegetarian,10,30,spicy,main, course,Gujarat,West\n",
            "Kansar,\"Wheat, flour,, cashews,, rapeseed, oil\",vegetarian,10,40,-1,main, course,Gujarat,West\n",
            "Keri, no, ras,\"Mango,, sugar\",vegetarian,10,10,sour,main, course,Gujarat,West\n",
            "Khakhra,\"Whole, wheat, flour,, low, fat,, bengal, gram, flour\",vegetarian,20,40,spicy,snack,Gujarat,West\n",
            "Khandvi,\"Green, chili, paste,, white, sesame, seeds,, gram, flour,, curry, leaves,, green, chili\",vegetarian,20,45,spicy,snack,Gujarat,West\n",
            "Kombdi, vade,\"Rice, flour,, urad, dal,, wheat, flour,, gram, flour,, turmeric\",vegetarian,10,25,spicy,snack,Maharashtra,West\n",
            "Laapsi,\"Cinnamon,, jaggery,, clarified, butter,, dry, roasted\",vegetarian,10,40,spicy,main, course,Madhya, Pradesh,Central\n",
            "Koshimbir,\"Cucumber,, carrot,, tomatoes,, cilantro\",vegetarian,10,10,spicy,main, course,Maharashtra,West\n",
            "Methi, na, Gota,\"Rava,, gram, flour,, lemon, juice,, turmeric,, fenugreek, leaves\",vegetarian,15,30,bitter,main, course,Gujarat,West\n",
            "Mohanthal,\"Rose, water,, pistachio,, badam,, bengal, gram, flour,, saffron\",vegetarian,5,45,sweet,dessert,Gujarat,West\n",
            "Muthiya,\"Bottle, gourd,, whole, wheat, flour,, rava,, sesame, seeds,, bengal, gram, flour\",vegetarian,15,30,bitter,snack,Gujarat,West\n",
            "Patra,\"Arbi, ke, patte,, sesame, seeds,, gur,, bengal, gram, flour,, imli\",vegetarian,10,40,spicy,snack,Gujarat,West\n",
            "Pav, Bhaji,\"Pav, bhaji, masala,, gobi,, potatoes,, green, peas,, dinner, rolls\",vegetarian,20,40,spicy,main, course,Maharashtra,West\n",
            "Puri, Bhaji,\"Aloo,, urad, dal,, mustard,, ginger,, curry, leaves\",vegetarian,10,30,spicy,main, course,Maharashtra,West\n",
            "Sabudana, Khichadi,\"Raw, peanuts,, sabudana,, lemon,, avocado, oil,, curry, leaves,, green, chili\",vegetarian,70,30,spicy,snack,Maharashtra,West\n",
            "Sev, khamani,\"Khaman,, pomegranate,, sev,, powdered, sugar,, garlic\",vegetarian,20,30,spicy,main, course,Gujarat,West\n",
            "Sev, tameta,\"Sev,, ginger,, tomato,, sugar\",vegetarian,20,30,spicy,main, course,Gujarat,West\n",
            "Namakpara,\"Wheat, flour,, baking, soda,, all, purpose, flour,, black, pepper,, sunflower, oil\",vegetarian,10,35,spicy,snack,Gujarat,West\n",
            "Sukhdi,\"Whole, wheat, flour,, gur,, clarified, butter\",vegetarian,10,20,sweet,dessert,Maharashtra,West\n",
            "Surnoli,\"Rice, flakes,, yogurt,, raw, rice,, jaggery,, grated, coconut\",vegetarian,60,10,spicy,snack,Maharashtra,West\n",
            "Thalipeeth,\"Whole, wheat, flour,, rice, flour,, pearl, millet, flour,, sorghum, flour,, sesame, seeds\",vegetarian,25,30,spicy,main, course,Maharashtra,West\n",
            "Undhiyu,\"Sweet, potato,, surti, papdi,, baby, potatoes,, valor, papdi,, green, peas\",vegetarian,25,60,spicy,main, course,Gujarat,West\n",
            "Veg, Kolhapuri,\"Gobi,, potato,, beans,, khus, khus,, coconut\",vegetarian,20,30,spicy,main, course,Maharashtra,West\n",
            "Vindaloo,\"Chicken,, coconut, oil,, wine, vinegar,, ginger,, green,, cinnamon\",non, vegetarian,10,40,spicy,main, course,Goa,West\n",
            "Lilva, Kachori,\"Green, garlic, chutney,, fresh, green, peas,, ginger,, lemon, juice,, plain, flour\",vegetarian,30,6,spicy,snack,Gujarat,West\n",
            "Mag, Dhokli,\"Moong, beans,, jaggery,, red, chillies,, oil,, salt\",vegetarian,-1,-1,spicy,snack,Gujarat,West\n",
            "Khichu,\"Rice, flour,, sesame, seeds,, baking, soda,, peanut, oil\",vegetarian,5,10,spicy,snack,Gujarat,West\n",
            "Thepla,\"Chickpea, flour,, methi, leaves,, jowar, flour,, wheat, flour\",vegetarian,15,30,spicy,snack,Gujarat,West\n",
            "Farsi, Puri,\"Semolina,, clarified, butter,, oil,, white, flour,, black, pepper\",vegetarian,-1,-1,-1,snack,Gujarat,West\n",
            "Khaman,\"Yogurt,, fresh, coconut,, sesame, seeds,, semolina,, gram, flour\",vegetarian,10,20,spicy,snack,Gujarat,West\n",
            "Turiya, Patra, Vatana, sabji,\"Ridge, gourd,, baking, soda,, sugar,, grated, coconut,, peas\",vegetarian,35,40,spicy,main, course,Gujarat,West\n",
            "Churma, Ladoo,\"Whole, wheat, flour,, khus, khus,, sesame, seeds,, dry, coconut,, gur\",vegetarian,12,40,sweet,dessert,Rajasthan,West\n",
            "Cheera, Doi,\"Rice,, mango,, curd\",vegetarian,-1,-1,sweet,dessert,West, Bengal,East\n",
            "Gheela, Pitha,\"Sticky, rice,, rice, flour,, jaggery,, orange, rind\",vegetarian,10,30,sweet,dessert,Assam,North, East\n",
            "Khar,\"Raw, papaya,, panch, phoran, masala,, nigella, seeds,, mustard, oil,, fennel, seeds\",vegetarian,10,20,-1,main, course,Assam,North, East\n",
            "Kumol, Sawul,\"Rice,, eggs,, carrot,, beetroot\",non, vegetarian,-1,-1,spicy,main, course,Assam,North, East\n",
            "Luchi,\"Maida,, vegetable, oil\",vegetarian,20,30,-1,main, course,West, Bengal,East\n",
            "Alu, Pitika,\"Potatoes,, mustard, oil,, fish,, green, chillies\",non, vegetarian,5,20,spicy,main, course,Assam,North, East\n",
            "Masor, tenga,\"Ridge, gourd,, fish,, lemon,, tomatoes,, mustard, oil\",non, vegetarian,15,25,spicy,main, course,Assam,North, East\n",
            "Bengena, Pitika,\"Brinjal,, onions,, salt,, sesame, seeds,, coriander\",vegetarian,-1,-1,-1,main, course,Assam,North, East\n",
            "Bilahi, Maas,\"Potatoes,, garam, masala,, tomatoes,, mustard, oil,, bay, leaf\",non, vegetarian,10,20,-1,main, course,Assam,North, East\n",
            "Black, rice,\"Forbidden, black, rice,, chicken,, olive, oil,, slivered, almonds,, garlic, powder\",non, vegetarian,-1,-1,-1,main, course,Manipur,North, East\n",
            "Bora, Sawul,\"Biryani, masala,, mixed, vegetables,, yellow, moong, daal,, whole, red,, mustard, seeds\",vegetarian,-1,-1,spicy,main, course,Assam,North, East\n",
            "Brown, Rice,\"Brown, rice,, soy, sauce,, olive, oil\",vegetarian,15,25,-1,main, course,-1,-1\n",
            "Chingri, malai, curry,\"Coconut, milk,, lobster,, fresh, green, chilli,, ginger,, red, onion\",non, vegetarian,10,40,spicy,main, course,West, Bengal,East\n",
            "Goja,\"Baking, soda,, clarified, butter,, oil,, all, purpose, flour\",vegetarian,20,60,sweet,dessert,West, Bengal,East\n",
            "Hando, Guri,\"Jaggery,, raisins\",vegetarian,-1,-1,sweet,dessert,Assam,North, East\n",
            "Haq, Maas,\"Lamb,, garam, masala, powder,, curd,, turmeric,, bay, leaf\",non, vegetarian,20,40,spicy,main, course,Assam,North, East\n",
            "Chingri, Bhape,\"Coconut,, prawns,, curd,, mustard, seed,, green, chili\",non, vegetarian,15,30,-1,main, course,West, Bengal,East\n",
            "Kabiraji,\"Fish, fillet,, besan,, lemon,, mint,, ginger\",non, vegetarian,-1,-1,spicy,main, course,West, Bengal,East\n",
            "Khorisa,\"Fermented, bamboo, shoot,, potato,, ginger,, green,, mustard, oil\",vegetarian,-1,-1,spicy,main, course,Assam,North, East\n",
            "Koldil, Chicken,\"Banana, flower,, chicken,, green, chili,, mustard, oil,, lemon, juice\",non, vegetarian,-1,-1,spicy,main, course,Assam,North, East\n",
            "Konir, Dom,\"Aloo,, tomatoes,, mustard, oil,, bay, leaf,, cinnamon, stick\",non, vegetarian,-1,-1,spicy,main, course,Assam,North, East\n",
            "Koldil, Duck,\"Rice, flour,, mutton,, banana,, gram, flour,, olive, oil,, baking, powder\",non, vegetarian,-1,-1,spicy,main, course,Assam,North, East\n",
            "Masor, Koni,\"Fish, roe,, pumpkin, flowers,, mustard, oil,, turmeric,, tomato\",non, vegetarian,-1,-1,spicy,main, course,Assam,North, East\n",
            "Mishti, Chholar, Dal,\"Chana, dal,, fresh, coconut,, ginger,, cinnamon,, raisins\",vegetarian,10,30,sweet,main, course,West, Bengal,East\n",
            "Pakhala,\"Curd,, cooked, rice,, curry, leaves,, dry, chilli\",vegetarian,-1,-1,-1,main, course,Odisha,East\n",
            "Pani, Pitha,\"Tea, leaves,, white, sesame, seeds,, dry, coconut,, soaked, rice\",vegetarian,10,20,-1,main, course,Assam,North, East\n",
            "Payokh,\"Basmati, rice,, rose, water,, sugar,, clarified, butter,, cardamom, pods\",vegetarian,-1,-1,sweet,dessert,Assam,North, East\n",
            "Prawn, malai, curry,\"Coconut, milk,, prawns,, garlic,, turmeric,, sugar\",non, vegetarian,15,50,spicy,main, course,West, Bengal,East\n",
            "Red, Rice,\"Red, pepper,, red, onion,, butter,, watercress,, olive, oil\",vegetarian,-1,-1,-1,main, course,-1,-1\n",
            "Shukto,\"Green, beans,, bitter, gourd,, ridge, gourd,, banana,, brinjal\",vegetarian,10,20,spicy,main, course,West, Bengal,East\n",
            "Til, Pitha,\"Glutinous, rice,, black, sesame, seeds,, gur\",vegetarian,5,30,sweet,dessert,Assam,North, East\n",
            "Bebinca,\"Coconut, milk,, egg, yolks,, clarified, butter,, all, purpose, flour\",vegetarian,20,60,sweet,dessert,Goa,West\n",
            "Shufta,\"Cottage, cheese,, dry, dates,, dried, rose, petals,, pistachio,, badam\",vegetarian,-1,-1,sweet,dessert,Jammu, &, Kashmir,North\n",
            "Mawa, Bati,\"Milk, powder,, dry, fruits,, arrowroot, powder,, all, purpose, flour\",vegetarian,20,45,sweet,dessert,Madhya, Pradesh,Central\n",
            "Pinaca,\"Brown, rice,, fennel, seeds,, grated, coconut,, black, pepper,, ginger, powder\",vegetarian,-1,-1,sweet,dessert,Goa,West\n"
          ],
          "name": "stdout"
        }
      ]
    },
    {
      "cell_type": "code",
      "metadata": {
        "id": "Ozy_caNnTfd6"
      },
      "source": [
        "import pandas as panda"
      ],
      "execution_count": 8,
      "outputs": []
    },
    {
      "cell_type": "code",
      "metadata": {
        "id": "4fqfVb9pb6HW"
      },
      "source": [
        "data=panda.read_csv('gdrive/My Drive/Colab Notebooks/Lab work/indian_food.csv')"
      ],
      "execution_count": 42,
      "outputs": []
    },
    {
      "cell_type": "code",
      "metadata": {
        "id": "-8zMQzaohv6p",
        "outputId": "c4789f92-e775-4f57-e550-aa95d220a062",
        "colab": {
          "base_uri": "https://localhost:8080/",
          "height": 198
        }
      },
      "source": [
        "data.head()"
      ],
      "execution_count": 43,
      "outputs": [
        {
          "output_type": "execute_result",
          "data": {
            "text/html": [
              "<div>\n",
              "<style scoped>\n",
              "    .dataframe tbody tr th:only-of-type {\n",
              "        vertical-align: middle;\n",
              "    }\n",
              "\n",
              "    .dataframe tbody tr th {\n",
              "        vertical-align: top;\n",
              "    }\n",
              "\n",
              "    .dataframe thead th {\n",
              "        text-align: right;\n",
              "    }\n",
              "</style>\n",
              "<table border=\"1\" class=\"dataframe\">\n",
              "  <thead>\n",
              "    <tr style=\"text-align: right;\">\n",
              "      <th></th>\n",
              "      <th>name</th>\n",
              "      <th>ingredients</th>\n",
              "      <th>diet</th>\n",
              "      <th>prep_time</th>\n",
              "      <th>cook_time</th>\n",
              "      <th>flavor_profile</th>\n",
              "      <th>course</th>\n",
              "      <th>state</th>\n",
              "      <th>region</th>\n",
              "    </tr>\n",
              "  </thead>\n",
              "  <tbody>\n",
              "    <tr>\n",
              "      <th>0</th>\n",
              "      <td>Balu shahi</td>\n",
              "      <td>Maida flour, yogurt, oil, sugar</td>\n",
              "      <td>vegetarian</td>\n",
              "      <td>45</td>\n",
              "      <td>25</td>\n",
              "      <td>sweet</td>\n",
              "      <td>dessert</td>\n",
              "      <td>West Bengal</td>\n",
              "      <td>East</td>\n",
              "    </tr>\n",
              "    <tr>\n",
              "      <th>1</th>\n",
              "      <td>Boondi</td>\n",
              "      <td>Gram flour, ghee, sugar</td>\n",
              "      <td>vegetarian</td>\n",
              "      <td>80</td>\n",
              "      <td>30</td>\n",
              "      <td>sweet</td>\n",
              "      <td>dessert</td>\n",
              "      <td>Rajasthan</td>\n",
              "      <td>West</td>\n",
              "    </tr>\n",
              "    <tr>\n",
              "      <th>2</th>\n",
              "      <td>Gajar ka halwa</td>\n",
              "      <td>Carrots, milk, sugar, ghee, cashews, raisins</td>\n",
              "      <td>vegetarian</td>\n",
              "      <td>15</td>\n",
              "      <td>60</td>\n",
              "      <td>sweet</td>\n",
              "      <td>dessert</td>\n",
              "      <td>Punjab</td>\n",
              "      <td>North</td>\n",
              "    </tr>\n",
              "    <tr>\n",
              "      <th>3</th>\n",
              "      <td>Ghevar</td>\n",
              "      <td>Flour, ghee, kewra, milk, clarified butter, su...</td>\n",
              "      <td>vegetarian</td>\n",
              "      <td>15</td>\n",
              "      <td>30</td>\n",
              "      <td>sweet</td>\n",
              "      <td>dessert</td>\n",
              "      <td>Rajasthan</td>\n",
              "      <td>West</td>\n",
              "    </tr>\n",
              "    <tr>\n",
              "      <th>4</th>\n",
              "      <td>Gulab jamun</td>\n",
              "      <td>Milk powder, plain flour, baking powder, ghee,...</td>\n",
              "      <td>vegetarian</td>\n",
              "      <td>15</td>\n",
              "      <td>40</td>\n",
              "      <td>sweet</td>\n",
              "      <td>dessert</td>\n",
              "      <td>West Bengal</td>\n",
              "      <td>East</td>\n",
              "    </tr>\n",
              "  </tbody>\n",
              "</table>\n",
              "</div>"
            ],
            "text/plain": [
              "             name  ... region\n",
              "0      Balu shahi  ...   East\n",
              "1          Boondi  ...   West\n",
              "2  Gajar ka halwa  ...  North\n",
              "3          Ghevar  ...   West\n",
              "4     Gulab jamun  ...   East\n",
              "\n",
              "[5 rows x 9 columns]"
            ]
          },
          "metadata": {
            "tags": []
          },
          "execution_count": 43
        }
      ]
    },
    {
      "cell_type": "code",
      "metadata": {
        "id": "IbtlrQy7i63x",
        "outputId": "1c8baba5-21c7-4fba-8666-65cee2c6ebf3",
        "colab": {
          "base_uri": "https://localhost:8080/",
          "height": 228
        }
      },
      "source": [
        "data.tail(6)"
      ],
      "execution_count": 47,
      "outputs": [
        {
          "output_type": "execute_result",
          "data": {
            "text/html": [
              "<div>\n",
              "<style scoped>\n",
              "    .dataframe tbody tr th:only-of-type {\n",
              "        vertical-align: middle;\n",
              "    }\n",
              "\n",
              "    .dataframe tbody tr th {\n",
              "        vertical-align: top;\n",
              "    }\n",
              "\n",
              "    .dataframe thead th {\n",
              "        text-align: right;\n",
              "    }\n",
              "</style>\n",
              "<table border=\"1\" class=\"dataframe\">\n",
              "  <thead>\n",
              "    <tr style=\"text-align: right;\">\n",
              "      <th></th>\n",
              "      <th>name</th>\n",
              "      <th>ingredients</th>\n",
              "      <th>diet</th>\n",
              "      <th>prep_time</th>\n",
              "      <th>cook_time</th>\n",
              "      <th>flavor_profile</th>\n",
              "      <th>course</th>\n",
              "      <th>state</th>\n",
              "      <th>region</th>\n",
              "    </tr>\n",
              "  </thead>\n",
              "  <tbody>\n",
              "    <tr>\n",
              "      <th>249</th>\n",
              "      <td>Shukto</td>\n",
              "      <td>Green beans, bitter gourd, ridge gourd, banana...</td>\n",
              "      <td>vegetarian</td>\n",
              "      <td>10</td>\n",
              "      <td>20</td>\n",
              "      <td>spicy</td>\n",
              "      <td>main course</td>\n",
              "      <td>West Bengal</td>\n",
              "      <td>East</td>\n",
              "    </tr>\n",
              "    <tr>\n",
              "      <th>250</th>\n",
              "      <td>Til Pitha</td>\n",
              "      <td>Glutinous rice, black sesame seeds, gur</td>\n",
              "      <td>vegetarian</td>\n",
              "      <td>5</td>\n",
              "      <td>30</td>\n",
              "      <td>sweet</td>\n",
              "      <td>dessert</td>\n",
              "      <td>Assam</td>\n",
              "      <td>North East</td>\n",
              "    </tr>\n",
              "    <tr>\n",
              "      <th>251</th>\n",
              "      <td>Bebinca</td>\n",
              "      <td>Coconut milk, egg yolks, clarified butter, all...</td>\n",
              "      <td>vegetarian</td>\n",
              "      <td>20</td>\n",
              "      <td>60</td>\n",
              "      <td>sweet</td>\n",
              "      <td>dessert</td>\n",
              "      <td>Goa</td>\n",
              "      <td>West</td>\n",
              "    </tr>\n",
              "    <tr>\n",
              "      <th>252</th>\n",
              "      <td>Shufta</td>\n",
              "      <td>Cottage cheese, dry dates, dried rose petals, ...</td>\n",
              "      <td>vegetarian</td>\n",
              "      <td>-1</td>\n",
              "      <td>-1</td>\n",
              "      <td>sweet</td>\n",
              "      <td>dessert</td>\n",
              "      <td>Jammu &amp; Kashmir</td>\n",
              "      <td>North</td>\n",
              "    </tr>\n",
              "    <tr>\n",
              "      <th>253</th>\n",
              "      <td>Mawa Bati</td>\n",
              "      <td>Milk powder, dry fruits, arrowroot powder, all...</td>\n",
              "      <td>vegetarian</td>\n",
              "      <td>20</td>\n",
              "      <td>45</td>\n",
              "      <td>sweet</td>\n",
              "      <td>dessert</td>\n",
              "      <td>Madhya Pradesh</td>\n",
              "      <td>Central</td>\n",
              "    </tr>\n",
              "    <tr>\n",
              "      <th>254</th>\n",
              "      <td>Pinaca</td>\n",
              "      <td>Brown rice, fennel seeds, grated coconut, blac...</td>\n",
              "      <td>vegetarian</td>\n",
              "      <td>-1</td>\n",
              "      <td>-1</td>\n",
              "      <td>sweet</td>\n",
              "      <td>dessert</td>\n",
              "      <td>Goa</td>\n",
              "      <td>West</td>\n",
              "    </tr>\n",
              "  </tbody>\n",
              "</table>\n",
              "</div>"
            ],
            "text/plain": [
              "          name  ...      region\n",
              "249     Shukto  ...        East\n",
              "250  Til Pitha  ...  North East\n",
              "251    Bebinca  ...        West\n",
              "252     Shufta  ...       North\n",
              "253  Mawa Bati  ...     Central\n",
              "254     Pinaca  ...        West\n",
              "\n",
              "[6 rows x 9 columns]"
            ]
          },
          "metadata": {
            "tags": []
          },
          "execution_count": 47
        }
      ]
    },
    {
      "cell_type": "code",
      "metadata": {
        "id": "EPCMMglCjKgJ",
        "outputId": "081a2381-145c-4d40-b916-217974fd578f",
        "colab": {
          "base_uri": "https://localhost:8080/",
          "height": 181
        }
      },
      "source": [
        "data.info()"
      ],
      "execution_count": 29,
      "outputs": [
        {
          "output_type": "stream",
          "text": [
            "<class 'pandas.core.frame.DataFrame'>\n",
            "RangeIndex: 5 entries, 0 to 4\n",
            "Data columns (total 2 columns):\n",
            " #   Column                 Non-Null Count  Dtype \n",
            "---  ------                 --------------  ----- \n",
            " 0   Name                   5 non-null      object\n",
            " 1   Popularity(out of 10)  5 non-null      int64 \n",
            "dtypes: int64(1), object(1)\n",
            "memory usage: 208.0+ bytes\n"
          ],
          "name": "stdout"
        }
      ]
    },
    {
      "cell_type": "code",
      "metadata": {
        "id": "YPhOibLWjVRy",
        "outputId": "fd21c255-2a12-4c13-cc90-793b0fef2279",
        "colab": {
          "base_uri": "https://localhost:8080/",
          "height": 35
        }
      },
      "source": [
        "data.shape"
      ],
      "execution_count": 45,
      "outputs": [
        {
          "output_type": "execute_result",
          "data": {
            "text/plain": [
              "(255, 9)"
            ]
          },
          "metadata": {
            "tags": []
          },
          "execution_count": 45
        }
      ]
    },
    {
      "cell_type": "code",
      "metadata": {
        "id": "ZZTX9sWwWBrK",
        "outputId": "541aebcb-01ce-4c2d-f32c-4f2a4283a69b",
        "colab": {
          "base_uri": "https://localhost:8080/",
          "height": 121
        }
      },
      "source": [
        "#python standard library\n",
        "#math module\n",
        "\n",
        "import math\n",
        "\n",
        "print(math.pi)          #value of pi\n",
        "\n",
        "x=9.2\n",
        "print(math.ceil(x))     #round to the smallest integer not less than x\n",
        "print(math.floor(x))    #rount to the largest integer not greater than x\n",
        "\n",
        "print(math.sin(78))     #trigonometric sine of x (x in radians)\n",
        "\n",
        "print(math.pow(2,3))    #2 to the power 3\n",
        "\n",
        "print(math.sqrt(16))    #square root of 16"
      ],
      "execution_count": null,
      "outputs": [
        {
          "output_type": "stream",
          "text": [
            "3.141592653589793\n",
            "10\n",
            "9\n",
            "0.5139784559875352\n",
            "8.0\n",
            "4.0\n"
          ],
          "name": "stdout"
        }
      ]
    }
  ]
}